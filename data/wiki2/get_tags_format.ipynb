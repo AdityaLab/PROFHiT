{
 "cells": [
  {
   "cell_type": "code",
   "execution_count": 1,
   "metadata": {},
   "outputs": [],
   "source": [
    "import pandas as pd\n",
    "import numpy as np\n",
    "import os\n",
    "from pprint import pprint"
   ]
  },
  {
   "cell_type": "code",
   "execution_count": 2,
   "metadata": {},
   "outputs": [],
   "source": [
    "nodes=[6, [3,3,3,3,3,3], [2,1,1,2,1,1,2,1,1,2,1,1,2,1,1,2,1,1], [9,6,3,10,6,7,6,4,9,7,9,8,9,6,3,6,3,3,6,8,7,2,8,5]]"
   ]
  },
  {
   "cell_type": "code",
   "execution_count": 3,
   "metadata": {},
   "outputs": [
    {
     "data": {
      "text/plain": [
       "(199, 150)"
      ]
     },
     "execution_count": 3,
     "metadata": {},
     "output_type": "execute_result"
    }
   ],
   "source": [
    "agg_mat = pd.read_csv('agg_mat.csv')\n",
    "# agg_mat\n",
    "agg_mat_max = agg_mat.values\n",
    "agg_mat_max = agg_mat_max[:,1:]\n",
    "agg_mat_max.shape"
   ]
  },
  {
   "cell_type": "code",
   "execution_count": 4,
   "metadata": {},
   "outputs": [
    {
     "name": "stdout",
     "output_type": "stream",
     "text": [
      "nbts: 151\n",
      "nts: 199\n",
      "naggts: 48\n"
     ]
    }
   ],
   "source": [
    "nbts = agg_mat.shape[1]\n",
    "nts  = agg_mat.shape[0]\n",
    "naggts = nts - nbts\n",
    "print(\"nbts:\", nbts)\n",
    "print(\"nts:\", nts)\n",
    "print(\"naggts:\", naggts)"
   ]
  },
  {
   "cell_type": "code",
   "execution_count": 11,
   "metadata": {},
   "outputs": [],
   "source": [
    "data = pd.read_csv('data.csv')\n",
    "data = data.drop([\"Unnamed: 0\"], axis=1)\n",
    "data_bts = data.iloc[:,-nbts+1:]"
   ]
  },
  {
   "cell_type": "code",
   "execution_count": 6,
   "metadata": {},
   "outputs": [],
   "source": [
    "tags = []\n",
    "for ts_name in list(data_bts.columns):\n",
    "    path_list = [] \n",
    "    ts_split  = ts_name.split(\"_\")\n",
    "    ts_split.insert(0,'T')\n",
    "    for idx in range(1,len(ts_split)+1):\n",
    "        path_list.append(\"-\".join(ts_split[:idx]))\n",
    "#     print(path_list)\n",
    "    tags.append(path_list)"
   ]
  },
  {
   "cell_type": "code",
   "execution_count": 7,
   "metadata": {},
   "outputs": [],
   "source": [
    "tags = np.array(tags)\n",
    "np.savetxt(\"tags.csv\", tags, delimiter=\",\", fmt='%s')"
   ]
  },
  {
   "cell_type": "code",
   "execution_count": 8,
   "metadata": {},
   "outputs": [
    {
     "data": {
      "text/plain": [
       "array([['T', 'T-de', 'T-de-AAC', 'T-de-AAC-AAG', 'T-de-AAC-AAG-001'],\n",
       "       ['T', 'T-de', 'T-de-AAC', 'T-de-AAC-AAG', 'T-de-AAC-AAG-010'],\n",
       "       ['T', 'T-de', 'T-de-AAC', 'T-de-AAC-AAG', 'T-de-AAC-AAG-014'],\n",
       "       ['T', 'T-de', 'T-de-AAC', 'T-de-AAC-AAG', 'T-de-AAC-AAG-045'],\n",
       "       ['T', 'T-de', 'T-de-AAC', 'T-de-AAC-AAG', 'T-de-AAC-AAG-063'],\n",
       "       ['T', 'T-de', 'T-de-AAC', 'T-de-AAC-AAG', 'T-de-AAC-AAG-100'],\n",
       "       ['T', 'T-de', 'T-de-AAC', 'T-de-AAC-AAG', 'T-de-AAC-AAG-110'],\n",
       "       ['T', 'T-de', 'T-de-AAC', 'T-de-AAC-AAG', 'T-de-AAC-AAG-123'],\n",
       "       ['T', 'T-de', 'T-de-AAC', 'T-de-AAC-AAG', 'T-de-AAC-AAG-143'],\n",
       "       ['T', 'T-de', 'T-de-AAC', 'T-de-AAC-SPD', 'T-de-AAC-SPD-012'],\n",
       "       ['T', 'T-de', 'T-de-AAC', 'T-de-AAC-SPD', 'T-de-AAC-SPD-074'],\n",
       "       ['T', 'T-de', 'T-de-AAC', 'T-de-AAC-SPD', 'T-de-AAC-SPD-080'],\n",
       "       ['T', 'T-de', 'T-de-AAC', 'T-de-AAC-SPD', 'T-de-AAC-SPD-105'],\n",
       "       ['T', 'T-de', 'T-de-AAC', 'T-de-AAC-SPD', 'T-de-AAC-SPD-115'],\n",
       "       ['T', 'T-de', 'T-de-AAC', 'T-de-AAC-SPD', 'T-de-AAC-SPD-133'],\n",
       "       ['T', 'T-de', 'T-de-DES', 'T-de-DES-AAG', 'T-de-DES-AAG-064'],\n",
       "       ['T', 'T-de', 'T-de-DES', 'T-de-DES-AAG', 'T-de-DES-AAG-116'],\n",
       "       ['T', 'T-de', 'T-de-DES', 'T-de-DES-AAG', 'T-de-DES-AAG-131'],\n",
       "       ['T', 'T-de', 'T-de-MOB', 'T-de-MOB-AAG', 'T-de-MOB-AAG-015'],\n",
       "       ['T', 'T-de', 'T-de-MOB', 'T-de-MOB-AAG', 'T-de-MOB-AAG-020'],\n",
       "       ['T', 'T-de', 'T-de-MOB', 'T-de-MOB-AAG', 'T-de-MOB-AAG-032'],\n",
       "       ['T', 'T-de', 'T-de-MOB', 'T-de-MOB-AAG', 'T-de-MOB-AAG-059'],\n",
       "       ['T', 'T-de', 'T-de-MOB', 'T-de-MOB-AAG', 'T-de-MOB-AAG-062'],\n",
       "       ['T', 'T-de', 'T-de-MOB', 'T-de-MOB-AAG', 'T-de-MOB-AAG-088'],\n",
       "       ['T', 'T-de', 'T-de-MOB', 'T-de-MOB-AAG', 'T-de-MOB-AAG-095'],\n",
       "       ['T', 'T-de', 'T-de-MOB', 'T-de-MOB-AAG', 'T-de-MOB-AAG-109'],\n",
       "       ['T', 'T-de', 'T-de-MOB', 'T-de-MOB-AAG', 'T-de-MOB-AAG-122'],\n",
       "       ['T', 'T-de', 'T-de-MOB', 'T-de-MOB-AAG', 'T-de-MOB-AAG-149'],\n",
       "       ['T', 'T-en', 'T-en-AAC', 'T-en-AAC-AAG', 'T-en-AAC-AAG-044'],\n",
       "       ['T', 'T-en', 'T-en-AAC', 'T-en-AAC-AAG', 'T-en-AAC-AAG-049'],\n",
       "       ['T', 'T-en', 'T-en-AAC', 'T-en-AAC-AAG', 'T-en-AAC-AAG-075'],\n",
       "       ['T', 'T-en', 'T-en-AAC', 'T-en-AAC-AAG', 'T-en-AAC-AAG-114'],\n",
       "       ['T', 'T-en', 'T-en-AAC', 'T-en-AAC-AAG', 'T-en-AAC-AAG-119'],\n",
       "       ['T', 'T-en', 'T-en-AAC', 'T-en-AAC-AAG', 'T-en-AAC-AAG-141'],\n",
       "       ['T', 'T-en', 'T-en-AAC', 'T-en-AAC-SPD', 'T-en-AAC-SPD-004'],\n",
       "       ['T', 'T-en', 'T-en-AAC', 'T-en-AAC-SPD', 'T-en-AAC-SPD-011'],\n",
       "       ['T', 'T-en', 'T-en-AAC', 'T-en-AAC-SPD', 'T-en-AAC-SPD-026'],\n",
       "       ['T', 'T-en', 'T-en-AAC', 'T-en-AAC-SPD', 'T-en-AAC-SPD-048'],\n",
       "       ['T', 'T-en', 'T-en-AAC', 'T-en-AAC-SPD', 'T-en-AAC-SPD-067'],\n",
       "       ['T', 'T-en', 'T-en-AAC', 'T-en-AAC-SPD', 'T-en-AAC-SPD-126'],\n",
       "       ['T', 'T-en', 'T-en-AAC', 'T-en-AAC-SPD', 'T-en-AAC-SPD-140'],\n",
       "       ['T', 'T-en', 'T-en-DES', 'T-en-DES-AAG', 'T-en-DES-AAG-016'],\n",
       "       ['T', 'T-en', 'T-en-DES', 'T-en-DES-AAG', 'T-en-DES-AAG-024'],\n",
       "       ['T', 'T-en', 'T-en-DES', 'T-en-DES-AAG', 'T-en-DES-AAG-042'],\n",
       "       ['T', 'T-en', 'T-en-DES', 'T-en-DES-AAG', 'T-en-DES-AAG-069'],\n",
       "       ['T', 'T-en', 'T-en-DES', 'T-en-DES-AAG', 'T-en-DES-AAG-082'],\n",
       "       ['T', 'T-en', 'T-en-DES', 'T-en-DES-AAG', 'T-en-DES-AAG-102'],\n",
       "       ['T', 'T-en', 'T-en-MOB', 'T-en-MOB-AAG', 'T-en-MOB-AAG-018'],\n",
       "       ['T', 'T-en', 'T-en-MOB', 'T-en-MOB-AAG', 'T-en-MOB-AAG-022'],\n",
       "       ['T', 'T-en', 'T-en-MOB', 'T-en-MOB-AAG', 'T-en-MOB-AAG-101'],\n",
       "       ['T', 'T-en', 'T-en-MOB', 'T-en-MOB-AAG', 'T-en-MOB-AAG-124'],\n",
       "       ['T', 'T-fr', 'T-fr-AAC', 'T-fr-AAC-AAG', 'T-fr-AAC-AAG-029'],\n",
       "       ['T', 'T-fr', 'T-fr-AAC', 'T-fr-AAC-AAG', 'T-fr-AAC-AAG-046'],\n",
       "       ['T', 'T-fr', 'T-fr-AAC', 'T-fr-AAC-AAG', 'T-fr-AAC-AAG-070'],\n",
       "       ['T', 'T-fr', 'T-fr-AAC', 'T-fr-AAC-AAG', 'T-fr-AAC-AAG-087'],\n",
       "       ['T', 'T-fr', 'T-fr-AAC', 'T-fr-AAC-AAG', 'T-fr-AAC-AAG-098'],\n",
       "       ['T', 'T-fr', 'T-fr-AAC', 'T-fr-AAC-AAG', 'T-fr-AAC-AAG-104'],\n",
       "       ['T', 'T-fr', 'T-fr-AAC', 'T-fr-AAC-AAG', 'T-fr-AAC-AAG-111'],\n",
       "       ['T', 'T-fr', 'T-fr-AAC', 'T-fr-AAC-AAG', 'T-fr-AAC-AAG-112'],\n",
       "       ['T', 'T-fr', 'T-fr-AAC', 'T-fr-AAC-AAG', 'T-fr-AAC-AAG-142'],\n",
       "       ['T', 'T-fr', 'T-fr-AAC', 'T-fr-AAC-SPD', 'T-fr-AAC-SPD-025'],\n",
       "       ['T', 'T-fr', 'T-fr-AAC', 'T-fr-AAC-SPD', 'T-fr-AAC-SPD-027'],\n",
       "       ['T', 'T-fr', 'T-fr-AAC', 'T-fr-AAC-SPD', 'T-fr-AAC-SPD-035'],\n",
       "       ['T', 'T-fr', 'T-fr-AAC', 'T-fr-AAC-SPD', 'T-fr-AAC-SPD-077'],\n",
       "       ['T', 'T-fr', 'T-fr-AAC', 'T-fr-AAC-SPD', 'T-fr-AAC-SPD-084'],\n",
       "       ['T', 'T-fr', 'T-fr-AAC', 'T-fr-AAC-SPD', 'T-fr-AAC-SPD-097'],\n",
       "       ['T', 'T-fr', 'T-fr-AAC', 'T-fr-AAC-SPD', 'T-fr-AAC-SPD-130'],\n",
       "       ['T', 'T-fr', 'T-fr-DES', 'T-fr-DES-AAG', 'T-fr-DES-AAG-023'],\n",
       "       ['T', 'T-fr', 'T-fr-DES', 'T-fr-DES-AAG', 'T-fr-DES-AAG-043'],\n",
       "       ['T', 'T-fr', 'T-fr-DES', 'T-fr-DES-AAG', 'T-fr-DES-AAG-051'],\n",
       "       ['T', 'T-fr', 'T-fr-DES', 'T-fr-DES-AAG', 'T-fr-DES-AAG-058'],\n",
       "       ['T', 'T-fr', 'T-fr-DES', 'T-fr-DES-AAG', 'T-fr-DES-AAG-061'],\n",
       "       ['T', 'T-fr', 'T-fr-DES', 'T-fr-DES-AAG', 'T-fr-DES-AAG-091'],\n",
       "       ['T', 'T-fr', 'T-fr-DES', 'T-fr-DES-AAG', 'T-fr-DES-AAG-093'],\n",
       "       ['T', 'T-fr', 'T-fr-DES', 'T-fr-DES-AAG', 'T-fr-DES-AAG-094'],\n",
       "       ['T', 'T-fr', 'T-fr-DES', 'T-fr-DES-AAG', 'T-fr-DES-AAG-136'],\n",
       "       ['T', 'T-fr', 'T-fr-MOB', 'T-fr-MOB-AAG', 'T-fr-MOB-AAG-006'],\n",
       "       ['T', 'T-fr', 'T-fr-MOB', 'T-fr-MOB-AAG', 'T-fr-MOB-AAG-030'],\n",
       "       ['T', 'T-fr', 'T-fr-MOB', 'T-fr-MOB-AAG', 'T-fr-MOB-AAG-066'],\n",
       "       ['T', 'T-fr', 'T-fr-MOB', 'T-fr-MOB-AAG', 'T-fr-MOB-AAG-117'],\n",
       "       ['T', 'T-fr', 'T-fr-MOB', 'T-fr-MOB-AAG', 'T-fr-MOB-AAG-120'],\n",
       "       ['T', 'T-fr', 'T-fr-MOB', 'T-fr-MOB-AAG', 'T-fr-MOB-AAG-121'],\n",
       "       ['T', 'T-fr', 'T-fr-MOB', 'T-fr-MOB-AAG', 'T-fr-MOB-AAG-135'],\n",
       "       ['T', 'T-fr', 'T-fr-MOB', 'T-fr-MOB-AAG', 'T-fr-MOB-AAG-147'],\n",
       "       ['T', 'T-ja', 'T-ja-AAC', 'T-ja-AAC-AAG', 'T-ja-AAC-AAG-038'],\n",
       "       ['T', 'T-ja', 'T-ja-AAC', 'T-ja-AAC-AAG', 'T-ja-AAC-AAG-047'],\n",
       "       ['T', 'T-ja', 'T-ja-AAC', 'T-ja-AAC-AAG', 'T-ja-AAC-AAG-055'],\n",
       "       ['T', 'T-ja', 'T-ja-AAC', 'T-ja-AAC-AAG', 'T-ja-AAC-AAG-076'],\n",
       "       ['T', 'T-ja', 'T-ja-AAC', 'T-ja-AAC-AAG', 'T-ja-AAC-AAG-099'],\n",
       "       ['T', 'T-ja', 'T-ja-AAC', 'T-ja-AAC-AAG', 'T-ja-AAC-AAG-128'],\n",
       "       ['T', 'T-ja', 'T-ja-AAC', 'T-ja-AAC-AAG', 'T-ja-AAC-AAG-132'],\n",
       "       ['T', 'T-ja', 'T-ja-AAC', 'T-ja-AAC-AAG', 'T-ja-AAC-AAG-134'],\n",
       "       ['T', 'T-ja', 'T-ja-AAC', 'T-ja-AAC-AAG', 'T-ja-AAC-AAG-137'],\n",
       "       ['T', 'T-ja', 'T-ja-AAC', 'T-ja-AAC-SPD', 'T-ja-AAC-SPD-013'],\n",
       "       ['T', 'T-ja', 'T-ja-AAC', 'T-ja-AAC-SPD', 'T-ja-AAC-SPD-034'],\n",
       "       ['T', 'T-ja', 'T-ja-AAC', 'T-ja-AAC-SPD', 'T-ja-AAC-SPD-050'],\n",
       "       ['T', 'T-ja', 'T-ja-AAC', 'T-ja-AAC-SPD', 'T-ja-AAC-SPD-060'],\n",
       "       ['T', 'T-ja', 'T-ja-AAC', 'T-ja-AAC-SPD', 'T-ja-AAC-SPD-078'],\n",
       "       ['T', 'T-ja', 'T-ja-AAC', 'T-ja-AAC-SPD', 'T-ja-AAC-SPD-106'],\n",
       "       ['T', 'T-ja', 'T-ja-DES', 'T-ja-DES-AAG', 'T-ja-DES-AAG-079'],\n",
       "       ['T', 'T-ja', 'T-ja-DES', 'T-ja-DES-AAG', 'T-ja-DES-AAG-081'],\n",
       "       ['T', 'T-ja', 'T-ja-DES', 'T-ja-DES-AAG', 'T-ja-DES-AAG-113'],\n",
       "       ['T', 'T-ja', 'T-ja-MOB', 'T-ja-MOB-AAG', 'T-ja-MOB-AAG-065'],\n",
       "       ['T', 'T-ja', 'T-ja-MOB', 'T-ja-MOB-AAG', 'T-ja-MOB-AAG-073'],\n",
       "       ['T', 'T-ja', 'T-ja-MOB', 'T-ja-MOB-AAG', 'T-ja-MOB-AAG-092'],\n",
       "       ['T', 'T-ja', 'T-ja-MOB', 'T-ja-MOB-AAG', 'T-ja-MOB-AAG-127'],\n",
       "       ['T', 'T-ja', 'T-ja-MOB', 'T-ja-MOB-AAG', 'T-ja-MOB-AAG-129'],\n",
       "       ['T', 'T-ja', 'T-ja-MOB', 'T-ja-MOB-AAG', 'T-ja-MOB-AAG-144'],\n",
       "       ['T', 'T-ru', 'T-ru-AAC', 'T-ru-AAC-AAG', 'T-ru-AAC-AAG-008'],\n",
       "       ['T', 'T-ru', 'T-ru-AAC', 'T-ru-AAC-AAG', 'T-ru-AAC-AAG-145'],\n",
       "       ['T', 'T-ru', 'T-ru-AAC', 'T-ru-AAC-AAG', 'T-ru-AAC-AAG-146'],\n",
       "       ['T', 'T-ru', 'T-ru-AAC', 'T-ru-AAC-SPD', 'T-ru-AAC-SPD-000'],\n",
       "       ['T', 'T-ru', 'T-ru-AAC', 'T-ru-AAC-SPD', 'T-ru-AAC-SPD-090'],\n",
       "       ['T', 'T-ru', 'T-ru-AAC', 'T-ru-AAC-SPD', 'T-ru-AAC-SPD-148'],\n",
       "       ['T', 'T-ru', 'T-ru-DES', 'T-ru-DES-AAG', 'T-ru-DES-AAG-003'],\n",
       "       ['T', 'T-ru', 'T-ru-DES', 'T-ru-DES-AAG', 'T-ru-DES-AAG-007'],\n",
       "       ['T', 'T-ru', 'T-ru-DES', 'T-ru-DES-AAG', 'T-ru-DES-AAG-017'],\n",
       "       ['T', 'T-ru', 'T-ru-DES', 'T-ru-DES-AAG', 'T-ru-DES-AAG-041'],\n",
       "       ['T', 'T-ru', 'T-ru-DES', 'T-ru-DES-AAG', 'T-ru-DES-AAG-071'],\n",
       "       ['T', 'T-ru', 'T-ru-DES', 'T-ru-DES-AAG', 'T-ru-DES-AAG-072'],\n",
       "       ['T', 'T-ru', 'T-ru-MOB', 'T-ru-MOB-AAG', 'T-ru-MOB-AAG-002'],\n",
       "       ['T', 'T-ru', 'T-ru-MOB', 'T-ru-MOB-AAG', 'T-ru-MOB-AAG-040'],\n",
       "       ['T', 'T-ru', 'T-ru-MOB', 'T-ru-MOB-AAG', 'T-ru-MOB-AAG-083'],\n",
       "       ['T', 'T-ru', 'T-ru-MOB', 'T-ru-MOB-AAG', 'T-ru-MOB-AAG-086'],\n",
       "       ['T', 'T-ru', 'T-ru-MOB', 'T-ru-MOB-AAG', 'T-ru-MOB-AAG-103'],\n",
       "       ['T', 'T-ru', 'T-ru-MOB', 'T-ru-MOB-AAG', 'T-ru-MOB-AAG-107'],\n",
       "       ['T', 'T-ru', 'T-ru-MOB', 'T-ru-MOB-AAG', 'T-ru-MOB-AAG-118'],\n",
       "       ['T', 'T-ru', 'T-ru-MOB', 'T-ru-MOB-AAG', 'T-ru-MOB-AAG-125'],\n",
       "       ['T', 'T-zh', 'T-zh-AAC', 'T-zh-AAC-AAG', 'T-zh-AAC-AAG-021'],\n",
       "       ['T', 'T-zh', 'T-zh-AAC', 'T-zh-AAC-AAG', 'T-zh-AAC-AAG-033'],\n",
       "       ['T', 'T-zh', 'T-zh-AAC', 'T-zh-AAC-AAG', 'T-zh-AAC-AAG-037'],\n",
       "       ['T', 'T-zh', 'T-zh-AAC', 'T-zh-AAC-AAG', 'T-zh-AAC-AAG-052'],\n",
       "       ['T', 'T-zh', 'T-zh-AAC', 'T-zh-AAC-AAG', 'T-zh-AAC-AAG-057'],\n",
       "       ['T', 'T-zh', 'T-zh-AAC', 'T-zh-AAC-AAG', 'T-zh-AAC-AAG-085'],\n",
       "       ['T', 'T-zh', 'T-zh-AAC', 'T-zh-AAC-AAG', 'T-zh-AAC-AAG-108'],\n",
       "       ['T', 'T-zh', 'T-zh-AAC', 'T-zh-AAC-SPD', 'T-zh-AAC-SPD-039'],\n",
       "       ['T', 'T-zh', 'T-zh-AAC', 'T-zh-AAC-SPD', 'T-zh-AAC-SPD-096'],\n",
       "       ['T', 'T-zh', 'T-zh-DES', 'T-zh-DES-AAG', 'T-zh-DES-AAG-009'],\n",
       "       ['T', 'T-zh', 'T-zh-DES', 'T-zh-DES-AAG', 'T-zh-DES-AAG-019'],\n",
       "       ['T', 'T-zh', 'T-zh-DES', 'T-zh-DES-AAG', 'T-zh-DES-AAG-053'],\n",
       "       ['T', 'T-zh', 'T-zh-DES', 'T-zh-DES-AAG', 'T-zh-DES-AAG-054'],\n",
       "       ['T', 'T-zh', 'T-zh-DES', 'T-zh-DES-AAG', 'T-zh-DES-AAG-056'],\n",
       "       ['T', 'T-zh', 'T-zh-DES', 'T-zh-DES-AAG', 'T-zh-DES-AAG-068'],\n",
       "       ['T', 'T-zh', 'T-zh-DES', 'T-zh-DES-AAG', 'T-zh-DES-AAG-089'],\n",
       "       ['T', 'T-zh', 'T-zh-DES', 'T-zh-DES-AAG', 'T-zh-DES-AAG-139'],\n",
       "       ['T', 'T-zh', 'T-zh-MOB', 'T-zh-MOB-AAG', 'T-zh-MOB-AAG-005'],\n",
       "       ['T', 'T-zh', 'T-zh-MOB', 'T-zh-MOB-AAG', 'T-zh-MOB-AAG-028'],\n",
       "       ['T', 'T-zh', 'T-zh-MOB', 'T-zh-MOB-AAG', 'T-zh-MOB-AAG-031'],\n",
       "       ['T', 'T-zh', 'T-zh-MOB', 'T-zh-MOB-AAG', 'T-zh-MOB-AAG-036'],\n",
       "       ['T', 'T-zh', 'T-zh-MOB', 'T-zh-MOB-AAG', 'T-zh-MOB-AAG-138']],\n",
       "      dtype='<U16')"
      ]
     },
     "execution_count": 8,
     "metadata": {},
     "output_type": "execute_result"
    }
   ],
   "source": [
    "np.array(tags)"
   ]
  },
  {
   "cell_type": "code",
   "execution_count": null,
   "metadata": {},
   "outputs": [],
   "source": []
  }
 ],
 "metadata": {
  "kernelspec": {
   "display_name": "Python 3",
   "language": "python",
   "name": "python3"
  },
  "language_info": {
   "codemirror_mode": {
    "name": "ipython",
    "version": 3
   },
   "file_extension": ".py",
   "mimetype": "text/x-python",
   "name": "python",
   "nbconvert_exporter": "python",
   "pygments_lexer": "ipython3",
   "version": "3.7.6"
  }
 },
 "nbformat": 4,
 "nbformat_minor": 4
}
