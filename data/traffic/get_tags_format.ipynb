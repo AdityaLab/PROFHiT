{
 "cells": [
  {
   "cell_type": "code",
   "execution_count": 1,
   "metadata": {},
   "outputs": [],
   "source": [
    "import pandas as pd\n",
    "import numpy as np\n",
    "import os\n",
    "from pprint import pprint\n",
    "from collections import defaultdict"
   ]
  },
  {
   "cell_type": "code",
   "execution_count": 2,
   "metadata": {},
   "outputs": [],
   "source": [
    "nodes=[2, [2] * 2, [50] * 4]"
   ]
  },
  {
   "cell_type": "code",
   "execution_count": 3,
   "metadata": {},
   "outputs": [
    {
     "data": {
      "text/plain": [
       "(207, 200)"
      ]
     },
     "execution_count": 3,
     "metadata": {},
     "output_type": "execute_result"
    }
   ],
   "source": [
    "agg_mat = pd.read_csv('agg_mat.csv')\n",
    "# agg_mat\n",
    "agg_mat_max = agg_mat.values\n",
    "agg_mat_max = agg_mat_max[:,1:]\n",
    "agg_mat_max.shape"
   ]
  },
  {
   "cell_type": "code",
   "execution_count": 4,
   "metadata": {},
   "outputs": [
    {
     "name": "stdout",
     "output_type": "stream",
     "text": [
      "nbts: 201\n",
      "nts: 207\n",
      "naggts: 6\n"
     ]
    }
   ],
   "source": [
    "nbts = agg_mat.shape[1]\n",
    "nts  = agg_mat.shape[0]\n",
    "naggts = nts - nbts\n",
    "print(\"nbts:\", nbts)\n",
    "print(\"nts:\", nts)\n",
    "print(\"naggts:\", naggts)"
   ]
  },
  {
   "cell_type": "code",
   "execution_count": 5,
   "metadata": {},
   "outputs": [],
   "source": [
    "data = pd.read_csv('data.csv')\n",
    "data = data.iloc[:,1:]\n",
    "# data = data.drop([\"Unnamed: 0\"], axis=1)\n",
    "# data_bts = data.iloc[:,-nbts+1:]"
   ]
  },
  {
   "cell_type": "code",
   "execution_count": 6,
   "metadata": {},
   "outputs": [],
   "source": [
    "data;\n"
   ]
  },
  {
   "cell_type": "code",
   "execution_count": 7,
   "metadata": {},
   "outputs": [
    {
     "name": "stdout",
     "output_type": "stream",
     "text": [
      "level: [2]\n",
      "level: [2, 2]\n",
      "level: [50, 50, 50, 50]\n"
     ]
    }
   ],
   "source": [
    "nodes=[2, [2] * 2, [50] * 4]\n",
    "nodes[0]= [nodes[0]]\n",
    "colnames = list(data.columns)\n",
    "\n",
    "labels_per_level = []\n",
    "counter = 0\n",
    "\n",
    "labels_per_level.append(colnames[0])\n",
    "# counter = counter + 1\n",
    "colnames_per_group = defaultdict(list)\n",
    "for idx, level in enumerate(nodes):\n",
    "    print(\"level:\", level)\n",
    "    \n",
    "    for node in level:\n",
    "#         print(\"node:\", node)\n",
    "        node_members = []\n",
    "        for size in range(node):\n",
    "            counter = counter + 1\n",
    "            node_members.append(colnames[counter])\n",
    "#         print(\"node_members:\", node_members)\n",
    "        colnames_per_group[idx].append(node_members)\n",
    "#     print(\"ts_per_group:\", ts_per_group)"
   ]
  },
  {
   "cell_type": "code",
   "execution_count": 8,
   "metadata": {},
   "outputs": [
    {
     "data": {
      "text/plain": [
       "[['y1', 'y2']]"
      ]
     },
     "execution_count": 8,
     "metadata": {},
     "output_type": "execute_result"
    }
   ],
   "source": [
    "colnames_per_group[0]"
   ]
  },
  {
   "cell_type": "code",
   "execution_count": 9,
   "metadata": {},
   "outputs": [
    {
     "data": {
      "text/plain": [
       "[['y11', 'y12'], ['y21', 'y22']]"
      ]
     },
     "execution_count": 9,
     "metadata": {},
     "output_type": "execute_result"
    }
   ],
   "source": [
    "colnames_per_group[1]"
   ]
  },
  {
   "cell_type": "code",
   "execution_count": 10,
   "metadata": {},
   "outputs": [
    {
     "name": "stdout",
     "output_type": "stream",
     "text": [
      "[['Bottom1', 'Bottom2', 'Bottom3', 'Bottom4', 'Bottom5', 'Bottom6', 'Bottom7', 'Bottom8', 'Bottom9', 'Bottom10', 'Bottom11', 'Bottom12', 'Bottom13', 'Bottom14', 'Bottom15', 'Bottom16', 'Bottom17', 'Bottom18', 'Bottom19', 'Bottom20', 'Bottom21', 'Bottom22', 'Bottom23', 'Bottom24', 'Bottom25', 'Bottom26', 'Bottom27', 'Bottom28', 'Bottom29', 'Bottom30', 'Bottom31', 'Bottom32', 'Bottom33', 'Bottom34', 'Bottom35', 'Bottom36', 'Bottom37', 'Bottom38', 'Bottom39', 'Bottom40', 'Bottom41', 'Bottom42', 'Bottom43', 'Bottom44', 'Bottom45', 'Bottom46', 'Bottom47', 'Bottom48', 'Bottom49', 'Bottom50'], ['Bottom51', 'Bottom52', 'Bottom53', 'Bottom54', 'Bottom55', 'Bottom56', 'Bottom57', 'Bottom58', 'Bottom59', 'Bottom60', 'Bottom61', 'Bottom62', 'Bottom63', 'Bottom64', 'Bottom65', 'Bottom66', 'Bottom67', 'Bottom68', 'Bottom69', 'Bottom70', 'Bottom71', 'Bottom72', 'Bottom73', 'Bottom74', 'Bottom75', 'Bottom76', 'Bottom77', 'Bottom78', 'Bottom79', 'Bottom80', 'Bottom81', 'Bottom82', 'Bottom83', 'Bottom84', 'Bottom85', 'Bottom86', 'Bottom87', 'Bottom88', 'Bottom89', 'Bottom90', 'Bottom91', 'Bottom92', 'Bottom93', 'Bottom94', 'Bottom95', 'Bottom96', 'Bottom97', 'Bottom98', 'Bottom99', 'Bottom100'], ['Bottom101', 'Bottom102', 'Bottom103', 'Bottom104', 'Bottom105', 'Bottom106', 'Bottom107', 'Bottom108', 'Bottom109', 'Bottom110', 'Bottom111', 'Bottom112', 'Bottom113', 'Bottom114', 'Bottom115', 'Bottom116', 'Bottom117', 'Bottom118', 'Bottom119', 'Bottom120', 'Bottom121', 'Bottom122', 'Bottom123', 'Bottom124', 'Bottom125', 'Bottom126', 'Bottom127', 'Bottom128', 'Bottom129', 'Bottom130', 'Bottom131', 'Bottom132', 'Bottom133', 'Bottom134', 'Bottom135', 'Bottom136', 'Bottom137', 'Bottom138', 'Bottom139', 'Bottom140', 'Bottom141', 'Bottom142', 'Bottom143', 'Bottom144', 'Bottom145', 'Bottom146', 'Bottom147', 'Bottom148', 'Bottom149', 'Bottom150'], ['Bottom151', 'Bottom152', 'Bottom153', 'Bottom154', 'Bottom155', 'Bottom156', 'Bottom157', 'Bottom158', 'Bottom159', 'Bottom160', 'Bottom161', 'Bottom162', 'Bottom163', 'Bottom164', 'Bottom165', 'Bottom166', 'Bottom167', 'Bottom168', 'Bottom169', 'Bottom170', 'Bottom171', 'Bottom172', 'Bottom173', 'Bottom174', 'Bottom175', 'Bottom176', 'Bottom177', 'Bottom178', 'Bottom179', 'Bottom180', 'Bottom181', 'Bottom182', 'Bottom183', 'Bottom184', 'Bottom185', 'Bottom186', 'Bottom187', 'Bottom188', 'Bottom189', 'Bottom190', 'Bottom191', 'Bottom192', 'Bottom193', 'Bottom194', 'Bottom195', 'Bottom196', 'Bottom197', 'Bottom198', 'Bottom199', 'Bottom200']]\n"
     ]
    }
   ],
   "source": [
    "print(colnames_per_group[2])"
   ]
  },
  {
   "cell_type": "code",
   "execution_count": 11,
   "metadata": {},
   "outputs": [],
   "source": [
    "better_names = []\n",
    "for elem in colnames_per_group[2][0]:\n",
    "    name_temp = 'T-y1-'+'y11-'+elem\n",
    "    better_names.append(name_temp)\n",
    "#     print('T-y1-'+'y11-'+elem)"
   ]
  },
  {
   "cell_type": "code",
   "execution_count": 12,
   "metadata": {},
   "outputs": [],
   "source": [
    "# new_names = []\n",
    "for elem in colnames_per_group[2][1]:\n",
    "    name_temp = 'T-y1-'+'y12-'+elem\n",
    "    better_names.append(name_temp)\n",
    "#     print(name_temp)"
   ]
  },
  {
   "cell_type": "code",
   "execution_count": 13,
   "metadata": {},
   "outputs": [],
   "source": [
    "# new_names = []\n",
    "for elem in colnames_per_group[2][2]:\n",
    "    name_temp = 'T-y2-'+'y21-'+elem\n",
    "    better_names.append(name_temp)\n",
    "#     print(name_temp)"
   ]
  },
  {
   "cell_type": "code",
   "execution_count": 14,
   "metadata": {},
   "outputs": [],
   "source": [
    "# new_names = []\n",
    "for elem in colnames_per_group[2][3]:\n",
    "    name_temp = 'T-y2-'+'y22-'+elem\n",
    "    better_names.append(name_temp)\n",
    "#     print(name_temp)"
   ]
  },
  {
   "cell_type": "code",
   "execution_count": 15,
   "metadata": {},
   "outputs": [
    {
     "data": {
      "text/plain": [
       "['T-y1-y11-Bottom1',\n",
       " 'T-y1-y11-Bottom2',\n",
       " 'T-y1-y11-Bottom3',\n",
       " 'T-y1-y11-Bottom4',\n",
       " 'T-y1-y11-Bottom5',\n",
       " 'T-y1-y11-Bottom6',\n",
       " 'T-y1-y11-Bottom7',\n",
       " 'T-y1-y11-Bottom8',\n",
       " 'T-y1-y11-Bottom9',\n",
       " 'T-y1-y11-Bottom10',\n",
       " 'T-y1-y11-Bottom11',\n",
       " 'T-y1-y11-Bottom12',\n",
       " 'T-y1-y11-Bottom13',\n",
       " 'T-y1-y11-Bottom14',\n",
       " 'T-y1-y11-Bottom15',\n",
       " 'T-y1-y11-Bottom16',\n",
       " 'T-y1-y11-Bottom17',\n",
       " 'T-y1-y11-Bottom18',\n",
       " 'T-y1-y11-Bottom19',\n",
       " 'T-y1-y11-Bottom20',\n",
       " 'T-y1-y11-Bottom21',\n",
       " 'T-y1-y11-Bottom22',\n",
       " 'T-y1-y11-Bottom23',\n",
       " 'T-y1-y11-Bottom24',\n",
       " 'T-y1-y11-Bottom25',\n",
       " 'T-y1-y11-Bottom26',\n",
       " 'T-y1-y11-Bottom27',\n",
       " 'T-y1-y11-Bottom28',\n",
       " 'T-y1-y11-Bottom29',\n",
       " 'T-y1-y11-Bottom30',\n",
       " 'T-y1-y11-Bottom31',\n",
       " 'T-y1-y11-Bottom32',\n",
       " 'T-y1-y11-Bottom33',\n",
       " 'T-y1-y11-Bottom34',\n",
       " 'T-y1-y11-Bottom35',\n",
       " 'T-y1-y11-Bottom36',\n",
       " 'T-y1-y11-Bottom37',\n",
       " 'T-y1-y11-Bottom38',\n",
       " 'T-y1-y11-Bottom39',\n",
       " 'T-y1-y11-Bottom40',\n",
       " 'T-y1-y11-Bottom41',\n",
       " 'T-y1-y11-Bottom42',\n",
       " 'T-y1-y11-Bottom43',\n",
       " 'T-y1-y11-Bottom44',\n",
       " 'T-y1-y11-Bottom45',\n",
       " 'T-y1-y11-Bottom46',\n",
       " 'T-y1-y11-Bottom47',\n",
       " 'T-y1-y11-Bottom48',\n",
       " 'T-y1-y11-Bottom49',\n",
       " 'T-y1-y11-Bottom50',\n",
       " 'T-y1-y12-Bottom51',\n",
       " 'T-y1-y12-Bottom52',\n",
       " 'T-y1-y12-Bottom53',\n",
       " 'T-y1-y12-Bottom54',\n",
       " 'T-y1-y12-Bottom55',\n",
       " 'T-y1-y12-Bottom56',\n",
       " 'T-y1-y12-Bottom57',\n",
       " 'T-y1-y12-Bottom58',\n",
       " 'T-y1-y12-Bottom59',\n",
       " 'T-y1-y12-Bottom60',\n",
       " 'T-y1-y12-Bottom61',\n",
       " 'T-y1-y12-Bottom62',\n",
       " 'T-y1-y12-Bottom63',\n",
       " 'T-y1-y12-Bottom64',\n",
       " 'T-y1-y12-Bottom65',\n",
       " 'T-y1-y12-Bottom66',\n",
       " 'T-y1-y12-Bottom67',\n",
       " 'T-y1-y12-Bottom68',\n",
       " 'T-y1-y12-Bottom69',\n",
       " 'T-y1-y12-Bottom70',\n",
       " 'T-y1-y12-Bottom71',\n",
       " 'T-y1-y12-Bottom72',\n",
       " 'T-y1-y12-Bottom73',\n",
       " 'T-y1-y12-Bottom74',\n",
       " 'T-y1-y12-Bottom75',\n",
       " 'T-y1-y12-Bottom76',\n",
       " 'T-y1-y12-Bottom77',\n",
       " 'T-y1-y12-Bottom78',\n",
       " 'T-y1-y12-Bottom79',\n",
       " 'T-y1-y12-Bottom80',\n",
       " 'T-y1-y12-Bottom81',\n",
       " 'T-y1-y12-Bottom82',\n",
       " 'T-y1-y12-Bottom83',\n",
       " 'T-y1-y12-Bottom84',\n",
       " 'T-y1-y12-Bottom85',\n",
       " 'T-y1-y12-Bottom86',\n",
       " 'T-y1-y12-Bottom87',\n",
       " 'T-y1-y12-Bottom88',\n",
       " 'T-y1-y12-Bottom89',\n",
       " 'T-y1-y12-Bottom90',\n",
       " 'T-y1-y12-Bottom91',\n",
       " 'T-y1-y12-Bottom92',\n",
       " 'T-y1-y12-Bottom93',\n",
       " 'T-y1-y12-Bottom94',\n",
       " 'T-y1-y12-Bottom95',\n",
       " 'T-y1-y12-Bottom96',\n",
       " 'T-y1-y12-Bottom97',\n",
       " 'T-y1-y12-Bottom98',\n",
       " 'T-y1-y12-Bottom99',\n",
       " 'T-y1-y12-Bottom100',\n",
       " 'T-y2-y21-Bottom101',\n",
       " 'T-y2-y21-Bottom102',\n",
       " 'T-y2-y21-Bottom103',\n",
       " 'T-y2-y21-Bottom104',\n",
       " 'T-y2-y21-Bottom105',\n",
       " 'T-y2-y21-Bottom106',\n",
       " 'T-y2-y21-Bottom107',\n",
       " 'T-y2-y21-Bottom108',\n",
       " 'T-y2-y21-Bottom109',\n",
       " 'T-y2-y21-Bottom110',\n",
       " 'T-y2-y21-Bottom111',\n",
       " 'T-y2-y21-Bottom112',\n",
       " 'T-y2-y21-Bottom113',\n",
       " 'T-y2-y21-Bottom114',\n",
       " 'T-y2-y21-Bottom115',\n",
       " 'T-y2-y21-Bottom116',\n",
       " 'T-y2-y21-Bottom117',\n",
       " 'T-y2-y21-Bottom118',\n",
       " 'T-y2-y21-Bottom119',\n",
       " 'T-y2-y21-Bottom120',\n",
       " 'T-y2-y21-Bottom121',\n",
       " 'T-y2-y21-Bottom122',\n",
       " 'T-y2-y21-Bottom123',\n",
       " 'T-y2-y21-Bottom124',\n",
       " 'T-y2-y21-Bottom125',\n",
       " 'T-y2-y21-Bottom126',\n",
       " 'T-y2-y21-Bottom127',\n",
       " 'T-y2-y21-Bottom128',\n",
       " 'T-y2-y21-Bottom129',\n",
       " 'T-y2-y21-Bottom130',\n",
       " 'T-y2-y21-Bottom131',\n",
       " 'T-y2-y21-Bottom132',\n",
       " 'T-y2-y21-Bottom133',\n",
       " 'T-y2-y21-Bottom134',\n",
       " 'T-y2-y21-Bottom135',\n",
       " 'T-y2-y21-Bottom136',\n",
       " 'T-y2-y21-Bottom137',\n",
       " 'T-y2-y21-Bottom138',\n",
       " 'T-y2-y21-Bottom139',\n",
       " 'T-y2-y21-Bottom140',\n",
       " 'T-y2-y21-Bottom141',\n",
       " 'T-y2-y21-Bottom142',\n",
       " 'T-y2-y21-Bottom143',\n",
       " 'T-y2-y21-Bottom144',\n",
       " 'T-y2-y21-Bottom145',\n",
       " 'T-y2-y21-Bottom146',\n",
       " 'T-y2-y21-Bottom147',\n",
       " 'T-y2-y21-Bottom148',\n",
       " 'T-y2-y21-Bottom149',\n",
       " 'T-y2-y21-Bottom150',\n",
       " 'T-y2-y22-Bottom151',\n",
       " 'T-y2-y22-Bottom152',\n",
       " 'T-y2-y22-Bottom153',\n",
       " 'T-y2-y22-Bottom154',\n",
       " 'T-y2-y22-Bottom155',\n",
       " 'T-y2-y22-Bottom156',\n",
       " 'T-y2-y22-Bottom157',\n",
       " 'T-y2-y22-Bottom158',\n",
       " 'T-y2-y22-Bottom159',\n",
       " 'T-y2-y22-Bottom160',\n",
       " 'T-y2-y22-Bottom161',\n",
       " 'T-y2-y22-Bottom162',\n",
       " 'T-y2-y22-Bottom163',\n",
       " 'T-y2-y22-Bottom164',\n",
       " 'T-y2-y22-Bottom165',\n",
       " 'T-y2-y22-Bottom166',\n",
       " 'T-y2-y22-Bottom167',\n",
       " 'T-y2-y22-Bottom168',\n",
       " 'T-y2-y22-Bottom169',\n",
       " 'T-y2-y22-Bottom170',\n",
       " 'T-y2-y22-Bottom171',\n",
       " 'T-y2-y22-Bottom172',\n",
       " 'T-y2-y22-Bottom173',\n",
       " 'T-y2-y22-Bottom174',\n",
       " 'T-y2-y22-Bottom175',\n",
       " 'T-y2-y22-Bottom176',\n",
       " 'T-y2-y22-Bottom177',\n",
       " 'T-y2-y22-Bottom178',\n",
       " 'T-y2-y22-Bottom179',\n",
       " 'T-y2-y22-Bottom180',\n",
       " 'T-y2-y22-Bottom181',\n",
       " 'T-y2-y22-Bottom182',\n",
       " 'T-y2-y22-Bottom183',\n",
       " 'T-y2-y22-Bottom184',\n",
       " 'T-y2-y22-Bottom185',\n",
       " 'T-y2-y22-Bottom186',\n",
       " 'T-y2-y22-Bottom187',\n",
       " 'T-y2-y22-Bottom188',\n",
       " 'T-y2-y22-Bottom189',\n",
       " 'T-y2-y22-Bottom190',\n",
       " 'T-y2-y22-Bottom191',\n",
       " 'T-y2-y22-Bottom192',\n",
       " 'T-y2-y22-Bottom193',\n",
       " 'T-y2-y22-Bottom194',\n",
       " 'T-y2-y22-Bottom195',\n",
       " 'T-y2-y22-Bottom196',\n",
       " 'T-y2-y22-Bottom197',\n",
       " 'T-y2-y22-Bottom198',\n",
       " 'T-y2-y22-Bottom199',\n",
       " 'T-y2-y22-Bottom200']"
      ]
     },
     "execution_count": 15,
     "metadata": {},
     "output_type": "execute_result"
    }
   ],
   "source": [
    "better_names"
   ]
  },
  {
   "cell_type": "code",
   "execution_count": 16,
   "metadata": {},
   "outputs": [
    {
     "ename": "IndexError",
     "evalue": "string index out of range",
     "output_type": "error",
     "traceback": [
      "\u001b[0;31m---------------------------------------------------------------------------\u001b[0m",
      "\u001b[0;31mIndexError\u001b[0m                                Traceback (most recent call last)",
      "\u001b[0;32m<ipython-input-16-5146164cd163>\u001b[0m in \u001b[0;36m<module>\u001b[0;34m\u001b[0m\n\u001b[1;32m      1\u001b[0m \u001b[0mbetter_names\u001b[0m \u001b[0;34m=\u001b[0m \u001b[0;34m[\u001b[0m\u001b[0;34m]\u001b[0m\u001b[0;34m\u001b[0m\u001b[0;34m\u001b[0m\u001b[0m\n\u001b[1;32m      2\u001b[0m \u001b[0;32mfor\u001b[0m \u001b[0mname\u001b[0m \u001b[0;32min\u001b[0m \u001b[0mlist\u001b[0m\u001b[0;34m(\u001b[0m\u001b[0mdata\u001b[0m\u001b[0;34m.\u001b[0m\u001b[0mcolumns\u001b[0m\u001b[0;34m)\u001b[0m\u001b[0;34m:\u001b[0m\u001b[0;34m\u001b[0m\u001b[0;34m\u001b[0m\u001b[0m\n\u001b[0;32m----> 3\u001b[0;31m     \u001b[0mname_split\u001b[0m \u001b[0;34m=\u001b[0m \u001b[0;34m[\u001b[0m \u001b[0;34m'T'\u001b[0m\u001b[0;34m,\u001b[0m \u001b[0mname\u001b[0m\u001b[0;34m[\u001b[0m\u001b[0;36m0\u001b[0m\u001b[0;34m]\u001b[0m\u001b[0;34m,\u001b[0m \u001b[0mname\u001b[0m\u001b[0;34m[\u001b[0m\u001b[0;36m1\u001b[0m\u001b[0;34m]\u001b[0m\u001b[0;34m,\u001b[0m \u001b[0mname\u001b[0m\u001b[0;34m[\u001b[0m\u001b[0;36m2\u001b[0m\u001b[0;34m]\u001b[0m\u001b[0;34m,\u001b[0m \u001b[0mname\u001b[0m\u001b[0;34m[\u001b[0m\u001b[0;36m3\u001b[0m\u001b[0;34m:\u001b[0m\u001b[0;34m]\u001b[0m \u001b[0;34m]\u001b[0m\u001b[0;34m\u001b[0m\u001b[0;34m\u001b[0m\u001b[0m\n\u001b[0m\u001b[1;32m      4\u001b[0m     \u001b[0mname_join\u001b[0m  \u001b[0;34m=\u001b[0m \u001b[0;34m(\u001b[0m\u001b[0;34m\"-\"\u001b[0m\u001b[0;34m)\u001b[0m\u001b[0;34m.\u001b[0m\u001b[0mjoin\u001b[0m\u001b[0;34m(\u001b[0m\u001b[0mname_split\u001b[0m\u001b[0;34m)\u001b[0m\u001b[0;34m\u001b[0m\u001b[0;34m\u001b[0m\u001b[0m\n\u001b[1;32m      5\u001b[0m     \u001b[0mbetter_names\u001b[0m\u001b[0;34m.\u001b[0m\u001b[0mappend\u001b[0m\u001b[0;34m(\u001b[0m\u001b[0mname_join\u001b[0m\u001b[0;34m)\u001b[0m\u001b[0;34m\u001b[0m\u001b[0;34m\u001b[0m\u001b[0m\n",
      "\u001b[0;31mIndexError\u001b[0m: string index out of range"
     ]
    }
   ],
   "source": [
    "better_names = []\n",
    "for name in list(data.columns):\n",
    "    name_split = [ 'T', name[0], name[1], name[2], name[3:] ]\n",
    "    name_join  = (\"-\").join(name_split)\n",
    "    better_names.append(name_join)"
   ]
  },
  {
   "cell_type": "code",
   "execution_count": null,
   "metadata": {},
   "outputs": [],
   "source": [
    "# better_names"
   ]
  },
  {
   "cell_type": "code",
   "execution_count": null,
   "metadata": {},
   "outputs": [],
   "source": [
    "tags = []\n",
    "for ts_name in better_names:\n",
    "    path_list = [] \n",
    "    ts_split  = ts_name\n",
    "    ts_split  = ts_split.split(\"-\")\n",
    "#     ts_split.insert(0,'T')\n",
    "    for idx in range(1,len(ts_split)+1):\n",
    "        path_list.append(\"-\".join(ts_split[:idx]))\n",
    "    tags.append(path_list)"
   ]
  },
  {
   "cell_type": "code",
   "execution_count": null,
   "metadata": {},
   "outputs": [],
   "source": [
    "tags"
   ]
  },
  {
   "cell_type": "code",
   "execution_count": null,
   "metadata": {},
   "outputs": [],
   "source": [
    "tags = np.array(tags)\n",
    "np.savetxt(\"tags.csv\", tags, delimiter=\",\", fmt='%s')"
   ]
  },
  {
   "cell_type": "code",
   "execution_count": null,
   "metadata": {},
   "outputs": [],
   "source": [
    "tags"
   ]
  },
  {
   "cell_type": "code",
   "execution_count": null,
   "metadata": {},
   "outputs": [],
   "source": []
  }
 ],
 "metadata": {
  "kernelspec": {
   "display_name": "Python 3",
   "language": "python",
   "name": "python3"
  },
  "language_info": {
   "codemirror_mode": {
    "name": "ipython",
    "version": 3
   },
   "file_extension": ".py",
   "mimetype": "text/x-python",
   "name": "python",
   "nbconvert_exporter": "python",
   "pygments_lexer": "ipython3",
   "version": "3.7.6"
  }
 },
 "nbformat": 4,
 "nbformat_minor": 4
}
